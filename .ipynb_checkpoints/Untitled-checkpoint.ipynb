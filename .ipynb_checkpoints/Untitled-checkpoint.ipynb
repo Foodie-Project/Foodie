{
 "cells": [
  {
   "cell_type": "code",
   "execution_count": 2,
   "id": "7027e37a",
   "metadata": {},
   "outputs": [
    {
     "name": "stderr",
     "output_type": "stream",
     "text": [
      "Copying files: 500 files [00:00, 656.28 files/s]\n"
     ]
    }
   ],
   "source": [
    "import splitfolders\n",
    "splitfolders.ratio('dataset', output=\"output\", seed=1337, ratio=(.8, 0.2)) "
   ]
  },
  {
   "cell_type": "code",
   "execution_count": null,
   "id": "33d482ae",
   "metadata": {},
   "outputs": [],
   "source": [
    "# Define our example directories and files\n",
    "base_dir = 'output'\n",
    "\n",
    "train_dir = os.path.join( base_dir, 'train')\n",
    "validation_dir = os.path.join( base_dir, 'val')\n",
    "\n",
    "# Nasi Goreng\n",
    "train_cats_dir = os.path.join(train_dir, 'cats') \n",
    "validation_cats_dir = os.path.join(validation_dir, 'cats') \n"
   ]
  }
 ],
 "metadata": {
  "kernelspec": {
   "display_name": "Python 3 (ipykernel)",
   "language": "python",
   "name": "python3"
  },
  "language_info": {
   "codemirror_mode": {
    "name": "ipython",
    "version": 3
   },
   "file_extension": ".py",
   "mimetype": "text/x-python",
   "name": "python",
   "nbconvert_exporter": "python",
   "pygments_lexer": "ipython3",
   "version": "3.9.12"
  }
 },
 "nbformat": 4,
 "nbformat_minor": 5
}
